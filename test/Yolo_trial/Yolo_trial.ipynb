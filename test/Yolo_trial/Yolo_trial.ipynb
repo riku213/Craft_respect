{
 "cells": [
  {
   "cell_type": "markdown",
   "id": "3a196a9e",
   "metadata": {},
   "source": [
    "# YoLOお試し実行"
   ]
  },
  {
   "cell_type": "code",
   "execution_count": 8,
   "id": "78ec69f2",
   "metadata": {},
   "outputs": [
    {
     "name": "stdout",
     "output_type": "stream",
     "text": [
      "Downloading https://github.com/ultralytics/assets/releases/download/v8.3.0/yolov8n.pt to 'yolov8n.pt'...\n"
     ]
    },
    {
     "name": "stderr",
     "output_type": "stream",
     "text": [
      "100%|██████████| 6.25M/6.25M [00:00<00:00, 11.0MB/s]\n"
     ]
    },
    {
     "name": "stdout",
     "output_type": "stream",
     "text": [
      "\n",
      "Downloading https://ultralytics.com/images/bus.jpg to 'bus.jpg'...\n"
     ]
    },
    {
     "name": "stderr",
     "output_type": "stream",
     "text": [
      "100%|██████████| 134k/134k [00:00<00:00, 13.3MB/s]"
     ]
    },
    {
     "name": "stdout",
     "output_type": "stream",
     "text": [
      "image 1/1 c:\\Users\\kotat\\MyPrograms\\MyKuzushiji\\Craft_respect\\test\\Yolo_trial\\bus.jpg: 640x480 4 persons, 1 bus, 1 stop sign, 10.5ms\n",
      "Speed: 7.7ms preprocess, 10.5ms inference, 20.3ms postprocess per image at shape (1, 3, 640, 480)\n"
     ]
    },
    {
     "name": "stderr",
     "output_type": "stream",
     "text": [
      "\n"
     ]
    }
   ],
   "source": [
    "from ultralytics import YOLO\n",
    "\n",
    "# YOLOv8の学習済みモデルをロード\n",
    "model = YOLO('yolov8n.pt')  # 'n'はnanoモデルの意味。他にもs, m, l, xなどがあります。\n",
    "\n",
    "# 画像を指定して推論を実行\n",
    "# sourceには画像のパス、URL、動画ファイル、カメラID(0)などを指定できます。\n",
    "# results = model('../../.image_data/100241706_00002_2.jpg')\n",
    "results = model('https://ultralytics.com/images/bus.jpg')\n",
    "\n",
    "# 結果の表示\n",
    "for r in results:\n",
    "    r.show() # 結果を画像で表示\n",
    "\n",
    "# 結果をファイルに保存\n",
    "# results = model('https://ultralytics.com/images/bus.jpg', save=True, project='my_results', name='bus_detection')"
   ]
  },
  {
   "cell_type": "markdown",
   "id": "7ece329e",
   "metadata": {},
   "source": [
    "# YOLOを学習させる"
   ]
  },
  {
   "cell_type": "markdown",
   "id": "7c41a5de",
   "metadata": {},
   "source": [
    "## 学習データ・データローダーの用意"
   ]
  },
  {
   "cell_type": "code",
   "execution_count": 9,
   "id": "3abbd497",
   "metadata": {},
   "outputs": [
    {
     "ename": "MemoryError",
     "evalue": "",
     "output_type": "error",
     "traceback": [
      "\u001b[1;31m---------------------------------------------------------------------------\u001b[0m",
      "\u001b[1;31mMemoryError\u001b[0m                               Traceback (most recent call last)",
      "Cell \u001b[1;32mIn[9], line 16\u001b[0m\n\u001b[0;32m     13\u001b[0m \u001b[38;5;66;03m# --- Dataset ---\u001b[39;00m\n\u001b[0;32m     14\u001b[0m test_doc_id_list \u001b[38;5;241m=\u001b[39m [\u001b[38;5;124m'\u001b[39m\u001b[38;5;124m100241706\u001b[39m\u001b[38;5;124m'\u001b[39m, \u001b[38;5;124m'\u001b[39m\u001b[38;5;124m100249371\u001b[39m\u001b[38;5;124m'\u001b[39m, \u001b[38;5;124m'\u001b[39m\u001b[38;5;124m100249376\u001b[39m\u001b[38;5;124m'\u001b[39m, \u001b[38;5;124m'\u001b[39m\u001b[38;5;124m100249416\u001b[39m\u001b[38;5;124m'\u001b[39m, \u001b[38;5;124m'\u001b[39m\u001b[38;5;124m100249476\u001b[39m\u001b[38;5;124m'\u001b[39m, \u001b[38;5;124m'\u001b[39m\u001b[38;5;124m100249537\u001b[39m\u001b[38;5;124m'\u001b[39m, \u001b[38;5;124m'\u001b[39m\u001b[38;5;124m200003076\u001b[39m\u001b[38;5;124m'\u001b[39m, \u001b[38;5;124m'\u001b[39m\u001b[38;5;124m200003803\u001b[39m\u001b[38;5;124m'\u001b[39m, \u001b[38;5;124m'\u001b[39m\u001b[38;5;124m200003967\u001b[39m\u001b[38;5;124m'\u001b[39m, \u001b[38;5;124m'\u001b[39m\u001b[38;5;124m200004107\u001b[39m\u001b[38;5;124m'\u001b[39m]\n\u001b[1;32m---> 16\u001b[0m train_dataset \u001b[38;5;241m=\u001b[39m dataset \u001b[38;5;241m=\u001b[39m PreTrainDataset_old(\n\u001b[0;32m     17\u001b[0m     input_path\u001b[38;5;241m=\u001b[39m\u001b[38;5;124m'\u001b[39m\u001b[38;5;124m../../../kuzushiji-recognition/synthetic_images/input_images/\u001b[39m\u001b[38;5;124m'\u001b[39m,\n\u001b[0;32m     18\u001b[0m     json_path\u001b[38;5;241m=\u001b[39m\u001b[38;5;124m'\u001b[39m\u001b[38;5;124m../../../kuzushiji-recognition/synthetic_images/gt_json.json\u001b[39m\u001b[38;5;124m'\u001b[39m,\n\u001b[0;32m     19\u001b[0m     test_doc_id_list\u001b[38;5;241m=\u001b[39mtest_doc_id_list,\n\u001b[0;32m     20\u001b[0m     test_mode\u001b[38;5;241m=\u001b[39m\u001b[38;5;28;01mFalse\u001b[39;00m,\n\u001b[0;32m     21\u001b[0m     \u001b[38;5;66;03m# device=torch.device('cuda' if torch.cuda.is_available() else 'cpu'),\u001b[39;00m\n\u001b[0;32m     22\u001b[0m     precompute_gt\u001b[38;5;241m=\u001b[39m\u001b[38;5;28;01mTrue\u001b[39;00m,\n\u001b[0;32m     23\u001b[0m     transform\u001b[38;5;241m=\u001b[39mtransform,\n\u001b[0;32m     24\u001b[0m     \u001b[38;5;66;03m# target_width=400  # 横幅を400ピクセルに固定\u001b[39;00m\n\u001b[0;32m     25\u001b[0m )\n\u001b[0;32m     27\u001b[0m test_dataset \u001b[38;5;241m=\u001b[39m PreTrainDataset_old(\n\u001b[0;32m     28\u001b[0m     input_path\u001b[38;5;241m=\u001b[39m\u001b[38;5;124m'\u001b[39m\u001b[38;5;124m../../../kuzushiji-recognition/synthetic_images/input_images/\u001b[39m\u001b[38;5;124m'\u001b[39m,\n\u001b[0;32m     29\u001b[0m     json_path\u001b[38;5;241m=\u001b[39m\u001b[38;5;124m'\u001b[39m\u001b[38;5;124m../../../kuzushiji-recognition/synthetic_images/gt_json.json\u001b[39m\u001b[38;5;124m'\u001b[39m,\n\u001b[1;32m   (...)\u001b[0m\n\u001b[0;32m     35\u001b[0m     \u001b[38;5;66;03m# target_width=400  # 横幅を400ピクセルに固定\u001b[39;00m\n\u001b[0;32m     36\u001b[0m )\n\u001b[0;32m     37\u001b[0m \u001b[38;5;66;03m# 最適化されたDataLoaderの作成\u001b[39;00m\n",
      "File \u001b[1;32mc:\\Users\\kotat\\MyPrograms\\MyKuzushiji\\Craft_respect\\src\\my_app\\core\\MyDataset\\OldMyDataset_speed.py:43\u001b[0m, in \u001b[0;36mPreTrainDataset_old.__init__\u001b[1;34m(self, test_doc_id_list, test_mode, input_path, json_path, transform, target_width, precompute_gt, cache_dir)\u001b[0m\n\u001b[0;32m     40\u001b[0m             \u001b[38;5;28mself\u001b[39m\u001b[38;5;241m.\u001b[39minput_imageID_list\u001b[38;5;241m.\u001b[39mappend(file_name\u001b[38;5;241m.\u001b[39msplit(\u001b[38;5;124m'\u001b[39m\u001b[38;5;124m.\u001b[39m\u001b[38;5;124m'\u001b[39m)[\u001b[38;5;241m0\u001b[39m])\n\u001b[0;32m     42\u001b[0m \u001b[38;5;66;03m# アノテーションデータを保持するjsonファイルをロード\u001b[39;00m\n\u001b[1;32m---> 43\u001b[0m \u001b[38;5;28mself\u001b[39m\u001b[38;5;241m.\u001b[39mgt_json \u001b[38;5;241m=\u001b[39m \u001b[38;5;28mself\u001b[39m\u001b[38;5;241m.\u001b[39mload_GT_json(json_path)\n\u001b[0;32m     45\u001b[0m \u001b[38;5;66;03m# 事前計算を実行\u001b[39;00m\n\u001b[0;32m     46\u001b[0m \u001b[38;5;28;01mif\u001b[39;00m \u001b[38;5;28mself\u001b[39m\u001b[38;5;241m.\u001b[39mprecompute_gt:\n",
      "File \u001b[1;32mc:\\Users\\kotat\\MyPrograms\\MyKuzushiji\\Craft_respect\\src\\my_app\\core\\MyDataset\\OldMyDataset_speed.py:133\u001b[0m, in \u001b[0;36mPreTrainDataset_old.load_GT_json\u001b[1;34m(self, file_path)\u001b[0m\n\u001b[0;32m    131\u001b[0m \u001b[38;5;28;01mdef\u001b[39;00m \u001b[38;5;21mload_GT_json\u001b[39m(\u001b[38;5;28mself\u001b[39m, file_path):\n\u001b[0;32m    132\u001b[0m     \u001b[38;5;28;01mwith\u001b[39;00m \u001b[38;5;28mopen\u001b[39m(file_path, \u001b[38;5;124m'\u001b[39m\u001b[38;5;124mr\u001b[39m\u001b[38;5;124m'\u001b[39m, encoding\u001b[38;5;241m=\u001b[39m\u001b[38;5;124m'\u001b[39m\u001b[38;5;124mutf-8\u001b[39m\u001b[38;5;124m'\u001b[39m) \u001b[38;5;28;01mas\u001b[39;00m f:\n\u001b[1;32m--> 133\u001b[0m         data \u001b[38;5;241m=\u001b[39m json\u001b[38;5;241m.\u001b[39mload(f)\n\u001b[0;32m    134\u001b[0m     \u001b[38;5;28mprint\u001b[39m(\u001b[38;5;124m\"\u001b[39m\u001b[38;5;124mjson データを読み込みました。\u001b[39m\u001b[38;5;124m\"\u001b[39m)\n\u001b[0;32m    135\u001b[0m     \u001b[38;5;28;01mreturn\u001b[39;00m data\n",
      "File \u001b[1;32mc:\\Users\\kotat\\AppData\\Local\\anaconda3\\envs\\kuzushiji\\Lib\\json\\__init__.py:293\u001b[0m, in \u001b[0;36mload\u001b[1;34m(fp, cls, object_hook, parse_float, parse_int, parse_constant, object_pairs_hook, **kw)\u001b[0m\n\u001b[0;32m    274\u001b[0m \u001b[38;5;28;01mdef\u001b[39;00m \u001b[38;5;21mload\u001b[39m(fp, \u001b[38;5;241m*\u001b[39m, \u001b[38;5;28mcls\u001b[39m\u001b[38;5;241m=\u001b[39m\u001b[38;5;28;01mNone\u001b[39;00m, object_hook\u001b[38;5;241m=\u001b[39m\u001b[38;5;28;01mNone\u001b[39;00m, parse_float\u001b[38;5;241m=\u001b[39m\u001b[38;5;28;01mNone\u001b[39;00m,\n\u001b[0;32m    275\u001b[0m         parse_int\u001b[38;5;241m=\u001b[39m\u001b[38;5;28;01mNone\u001b[39;00m, parse_constant\u001b[38;5;241m=\u001b[39m\u001b[38;5;28;01mNone\u001b[39;00m, object_pairs_hook\u001b[38;5;241m=\u001b[39m\u001b[38;5;28;01mNone\u001b[39;00m, \u001b[38;5;241m*\u001b[39m\u001b[38;5;241m*\u001b[39mkw):\n\u001b[0;32m    276\u001b[0m \u001b[38;5;250m    \u001b[39m\u001b[38;5;124;03m\"\"\"Deserialize ``fp`` (a ``.read()``-supporting file-like object containing\u001b[39;00m\n\u001b[0;32m    277\u001b[0m \u001b[38;5;124;03m    a JSON document) to a Python object.\u001b[39;00m\n\u001b[0;32m    278\u001b[0m \n\u001b[1;32m   (...)\u001b[0m\n\u001b[0;32m    291\u001b[0m \u001b[38;5;124;03m    kwarg; otherwise ``JSONDecoder`` is used.\u001b[39;00m\n\u001b[0;32m    292\u001b[0m \u001b[38;5;124;03m    \"\"\"\u001b[39;00m\n\u001b[1;32m--> 293\u001b[0m     \u001b[38;5;28;01mreturn\u001b[39;00m loads(fp\u001b[38;5;241m.\u001b[39mread(),\n\u001b[0;32m    294\u001b[0m         \u001b[38;5;28mcls\u001b[39m\u001b[38;5;241m=\u001b[39m\u001b[38;5;28mcls\u001b[39m, object_hook\u001b[38;5;241m=\u001b[39mobject_hook,\n\u001b[0;32m    295\u001b[0m         parse_float\u001b[38;5;241m=\u001b[39mparse_float, parse_int\u001b[38;5;241m=\u001b[39mparse_int,\n\u001b[0;32m    296\u001b[0m         parse_constant\u001b[38;5;241m=\u001b[39mparse_constant, object_pairs_hook\u001b[38;5;241m=\u001b[39mobject_pairs_hook, \u001b[38;5;241m*\u001b[39m\u001b[38;5;241m*\u001b[39mkw)\n",
      "\u001b[1;31mMemoryError\u001b[0m: "
     ]
    }
   ],
   "source": [
    "import os, sys\n",
    "project_root = os.path.abspath(os.path.join(os.getcwd(), '../..'))\n",
    "if project_root not in sys.path:\n",
    "    sys.path.append(project_root)\n",
    "from src.my_app.core.MyDataset.OldMyDataset_speed import PreTrainDataset_old\n",
    "import torchvision.transforms as transforms\n",
    "import multiprocessing as mp\n",
    "\n",
    "transform = transforms.Compose([\n",
    "    # transforms.Resizeze((128, 128)),\n",
    "    transforms.ToTensor()\n",
    "])\n",
    "# --- Dataset ---\n",
    "test_doc_id_list = ['100241706', '100249371', '100249376', '100249416', '100249476', '100249537', '200003076', '200003803', '200003967', '200004107']\n",
    "\n",
    "train_dataset = dataset = PreTrainDataset_old(\n",
    "    input_path='../../../kuzushiji-recognition/synthetic_images/input_images/',\n",
    "    json_path='../../../kuzushiji-recognition/synthetic_images/gt_json.json',\n",
    "    test_doc_id_list=test_doc_id_list,\n",
    "    test_mode=False,\n",
    "    # device=torch.device('cuda' if torch.cuda.is_available() else 'cpu'),\n",
    "    precompute_gt=True,\n",
    "    transform=transform,\n",
    "    # target_width=400  # 横幅を400ピクセルに固定\n",
    ")\n",
    "\n",
    "test_dataset = PreTrainDataset_old(\n",
    "    input_path='../../../kuzushiji-recognition/synthetic_images/input_images/',\n",
    "    json_path='../../../kuzushiji-recognition/synthetic_images/gt_json.json',\n",
    "    test_doc_id_list=test_doc_id_list,\n",
    "    test_mode=True,\n",
    "    # device=torch.device('cuda' if torch.cuda.is_available() else 'cpu'),\n",
    "    precompute_gt=True,\n",
    "    transform=transform,\n",
    "    # target_width=400  # 横幅を400ピクセルに固定\n",
    ")\n",
    "# 最適化されたDataLoaderの作成\n",
    "train_dl = PreTrainDataset_old.create_optimized_dataloader_for_old_dataset(\n",
    "    train_dataset,\n",
    "    batch_size=1,\n",
    "    num_workers=min(mp.cpu_count(), 4)\n",
    ")\n",
    "test_dl = PreTrainDataset_old.create_optimized_dataloader_for_old_dataset(\n",
    "    test_dataset,\n",
    "    batch_size=1,\n",
    "    num_workers=min(mp.cpu_count(), 4)\n",
    ")"
   ]
  },
  {
   "cell_type": "code",
   "execution_count": null,
   "id": "bed2ac2a",
   "metadata": {},
   "outputs": [],
   "source": [
    "import torch\n",
    "from tqdm import tqdm\n",
    "import matplotlib.pyplot as plt\n",
    "import os\n",
    "\n",
    "optimizer = torch.optim.Adam(model.parameters(), lr=1e-4)\n",
    "\n",
    "train_losses = []\n",
    "val_losses = []\n",
    "\n",
    "save_dir = \"./checkpoints\"\n",
    "os.makedirs(save_dir, exist_ok=True)\n",
    "num_epochs = 10  # 学習エポック数\n",
    "model.train()\n",
    "for epoch in range(num_epochs):\n",
    "    epoch_loss = 0.0\n",
    "    for imgs, targets in tqdm(train_dl, desc=f\"Epoch {epoch+1}/{num_epochs}\"):\n",
    "        imgs = imgs.to(model.device).float()\n",
    "        targets = [t.to(model.device).float() for t in targets]  # list of [num_obj, 5]\n",
    "\n",
    "        results = model(imgs, targets=targets, verbose=False)\n",
    "        loss = results[0]\n",
    "\n",
    "        optimizer.zero_grad()\n",
    "        loss.backward()\n",
    "        optimizer.step()\n",
    "\n",
    "        epoch_loss += loss.item()\n",
    "\n",
    "    avg_train_loss = epoch_loss / len(train_dl)\n",
    "    train_losses.append(avg_train_loss)\n",
    "\n",
    "    # 検証ループ（テストローダーが存在する前提）\n",
    "    model.eval()\n",
    "    val_loss = 0.0\n",
    "    with torch.no_grad():\n",
    "        for imgs, targets in test_dl:\n",
    "            imgs = imgs.to(model.device).float()\n",
    "            targets = [t.to(model.device).float() for t in targets]\n",
    "            results = model(imgs, targets=targets, verbose=False)\n",
    "            val_loss += results[0].item()\n",
    "    avg_val_loss = val_loss / len(test_dl)\n",
    "    val_losses.append(avg_val_loss)\n",
    "\n",
    "    model.train()\n",
    "\n",
    "    # チェックポイント保存\n",
    "    ckpt_path = os.path.join(save_dir, f\"model_epoch_{epoch+1}.pt\")\n",
    "    torch.save(model.state_dict(), ckpt_path)\n",
    "\n",
    "# 損失のプロット\n",
    "plt.plot(train_losses, label=\"Train Loss\")\n",
    "plt.plot(val_losses, label=\"Validation Loss\")\n",
    "plt.xlabel(\"Epoch\")\n",
    "plt.ylabel(\"Loss\")\n",
    "plt.title(\"Training and Validation Loss\")\n",
    "plt.legend()\n",
    "plt.grid(True)\n",
    "plt.savefig(\"loss_plot.png\")\n",
    "plt.show()\n"
   ]
  },
  {
   "cell_type": "code",
   "execution_count": null,
   "id": "56d14d8f",
   "metadata": {},
   "outputs": [],
   "source": []
  }
 ],
 "metadata": {
  "kernelspec": {
   "display_name": "kuzushiji",
   "language": "python",
   "name": "python3"
  },
  "language_info": {
   "codemirror_mode": {
    "name": "ipython",
    "version": 3
   },
   "file_extension": ".py",
   "mimetype": "text/x-python",
   "name": "python",
   "nbconvert_exporter": "python",
   "pygments_lexer": "ipython3",
   "version": "3.12.3"
  }
 },
 "nbformat": 4,
 "nbformat_minor": 5
}
