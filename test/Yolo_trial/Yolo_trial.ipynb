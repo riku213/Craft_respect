{
 "cells": [
  {
   "cell_type": "markdown",
   "id": "3a196a9e",
   "metadata": {},
   "source": [
    "# YoLOお試し実行"
   ]
  },
  {
   "cell_type": "code",
   "execution_count": 3,
   "id": "78ec69f2",
   "metadata": {},
   "outputs": [
    {
     "name": "stdout",
     "output_type": "stream",
     "text": [
      "\n",
      "image 1/1 /Users/riku/00_myprograms/Craft_respect/test/Yolo_trial/../../.image_data/100241706_00002_2.jpg: 640x416 (no detections), 91.7ms\n",
      "Speed: 2.5ms preprocess, 91.7ms inference, 0.4ms postprocess per image at shape (1, 3, 640, 416)\n"
     ]
    }
   ],
   "source": [
    "from ultralytics import YOLO\n",
    "\n",
    "# YOLOv8の学習済みモデルをロード\n",
    "model = YOLO('yolov8n.pt')  # 'n'はnanoモデルの意味。他にもs, m, l, xなどがあります。\n",
    "\n",
    "# 画像を指定して推論を実行\n",
    "# sourceには画像のパス、URL、動画ファイル、カメラID(0)などを指定できます。\n",
    "results = model('../../.image_data/100241706_00002_2.jpg')\n",
    "\n",
    "# 結果の表示\n",
    "for r in results:\n",
    "    r.show() # 結果を画像で表示\n",
    "\n",
    "# 結果をファイルに保存\n",
    "# results = model('https://ultralytics.com/images/bus.jpg', save=True, project='my_results', name='bus_detection')"
   ]
  },
  {
   "cell_type": "markdown",
   "id": "7ece329e",
   "metadata": {},
   "source": [
    "# YOLOを学習させる"
   ]
  },
  {
   "cell_type": "markdown",
   "id": "7c41a5de",
   "metadata": {},
   "source": [
    "## 学習データ・データローダーの用意"
   ]
  },
  {
   "cell_type": "code",
   "execution_count": null,
   "id": "3abbd497",
   "metadata": {},
   "outputs": [],
   "source": [
    "from src.my_app.core.MyDataset.OldMyDataset_speed import PreTrainDataset_old\n",
    "import torchvision.transforms as transforms\n",
    "import multiprocessing as mp\n",
    "\n",
    "transform = transforms.Compose([\n",
    "    # transforms.Resizeze((128, 128)),\n",
    "    transforms.ToTensor()\n",
    "])\n",
    "# --- Dataset ---\n",
    "test_doc_id_list = ['100241706', '100249371', '100249376', '100249416', '100249476', '100249537', '200003076', '200003803', '200003967', '200004107']\n",
    "\n",
    "train_dataset = dataset = PreTrainDataset_old(\n",
    "    input_path='../../../kuzushiji-recognition/synthetic_images/input_images/',\n",
    "    json_path='../../../kuzushiji-recognition/synthetic_images/gt_json.json',\n",
    "    test_doc_id_list=test_doc_id_list,\n",
    "    test_mode=False,\n",
    "    # device=torch.device('cuda' if torch.cuda.is_available() else 'cpu'),\n",
    "    precompute_gt=True,\n",
    "    transform=transform,\n",
    "    # target_width=400  # 横幅を400ピクセルに固定\n",
    ")\n",
    "\n",
    "test_dataset = PreTrainDataset_old(\n",
    "    input_path='../../../kuzushiji-recognition/synthetic_images/input_images/',\n",
    "    json_path='../../../kuzushiji-recognition/synthetic_images/gt_json.json',\n",
    "    test_doc_id_list=test_doc_id_list,\n",
    "    test_mode=True,\n",
    "    # device=torch.device('cuda' if torch.cuda.is_available() else 'cpu'),\n",
    "    precompute_gt=True,\n",
    "    transform=transform,\n",
    "    # target_width=400  # 横幅を400ピクセルに固定\n",
    ")\n",
    "# 最適化されたDataLoaderの作成\n",
    "train_dl = PreTrainDataset_old.create_optimized_dataloader_for_old_dataset(\n",
    "    train_dataset,\n",
    "    batch_size=1,\n",
    "    num_workers=min(mp.cpu_count(), 4)\n",
    ")\n",
    "test_dl = PreTrainDataset_old.create_optimized_dataloader_for_old_dataset(\n",
    "    test_dataset,\n",
    "    batch_size=1,\n",
    "    num_workers=min(mp.cpu_count(), 4)\n",
    ")"
   ]
  },
  {
   "cell_type": "code",
   "execution_count": null,
   "id": "bed2ac2a",
   "metadata": {},
   "outputs": [],
   "source": [
    "import torch\n",
    "from tqdm import tqdm\n",
    "import matplotlib.pyplot as plt\n",
    "import os\n",
    "\n",
    "optimizer = torch.optim.Adam(model.parameters(), lr=1e-4)\n",
    "\n",
    "train_losses = []\n",
    "val_losses = []\n",
    "\n",
    "save_dir = \"./checkpoints\"\n",
    "os.makedirs(save_dir, exist_ok=True)\n",
    "num_epochs = 10  # 学習エポック数\n",
    "model.train()\n",
    "for epoch in range(num_epochs):\n",
    "    epoch_loss = 0.0\n",
    "    for imgs, targets in tqdm(train_dl, desc=f\"Epoch {epoch+1}/{num_epochs}\"):\n",
    "        imgs = imgs.to(model.device).float()\n",
    "        targets = [t.to(model.device).float() for t in targets]  # list of [num_obj, 5]\n",
    "\n",
    "        results = model(imgs, targets=targets, verbose=False)\n",
    "        loss = results[0]\n",
    "\n",
    "        optimizer.zero_grad()\n",
    "        loss.backward()\n",
    "        optimizer.step()\n",
    "\n",
    "        epoch_loss += loss.item()\n",
    "\n",
    "    avg_train_loss = epoch_loss / len(train_dl)\n",
    "    train_losses.append(avg_train_loss)\n",
    "\n",
    "    # 検証ループ（テストローダーが存在する前提）\n",
    "    model.eval()\n",
    "    val_loss = 0.0\n",
    "    with torch.no_grad():\n",
    "        for imgs, targets in test_dl:\n",
    "            imgs = imgs.to(model.device).float()\n",
    "            targets = [t.to(model.device).float() for t in targets]\n",
    "            results = model(imgs, targets=targets, verbose=False)\n",
    "            val_loss += results[0].item()\n",
    "    avg_val_loss = val_loss / len(test_dl)\n",
    "    val_losses.append(avg_val_loss)\n",
    "\n",
    "    model.train()\n",
    "\n",
    "    # チェックポイント保存\n",
    "    ckpt_path = os.path.join(save_dir, f\"model_epoch_{epoch+1}.pt\")\n",
    "    torch.save(model.state_dict(), ckpt_path)\n",
    "\n",
    "# 損失のプロット\n",
    "plt.plot(train_losses, label=\"Train Loss\")\n",
    "plt.plot(val_losses, label=\"Validation Loss\")\n",
    "plt.xlabel(\"Epoch\")\n",
    "plt.ylabel(\"Loss\")\n",
    "plt.title(\"Training and Validation Loss\")\n",
    "plt.legend()\n",
    "plt.grid(True)\n",
    "plt.savefig(\"loss_plot.png\")\n",
    "plt.show()\n"
   ]
  },
  {
   "cell_type": "code",
   "execution_count": null,
   "id": "56d14d8f",
   "metadata": {},
   "outputs": [],
   "source": []
  }
 ],
 "metadata": {
  "kernelspec": {
   "display_name": "torch_env",
   "language": "python",
   "name": "python3"
  },
  "language_info": {
   "codemirror_mode": {
    "name": "ipython",
    "version": 3
   },
   "file_extension": ".py",
   "mimetype": "text/x-python",
   "name": "python",
   "nbconvert_exporter": "python",
   "pygments_lexer": "ipython3",
   "version": "3.10.13"
  }
 },
 "nbformat": 4,
 "nbformat_minor": 5
}
