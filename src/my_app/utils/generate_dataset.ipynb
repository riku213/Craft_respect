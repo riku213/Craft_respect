{
 "cells": [
  {
   "cell_type": "code",
   "execution_count": null,
   "id": "8cfa7a1d",
   "metadata": {},
   "outputs": [],
   "source": [
    "import os\n",
    "\n",
    "def list_files_and_dirs(path):\n",
    "    try:\n",
    "        items = os.listdir(path)\n",
    "        for item in items:\n",
    "            print(item)\n",
    "    except FileNotFoundError:\n",
    "        print(f\"指定されたパスが見つかりません: {path}\")\n",
    "    except NotADirectoryError:\n",
    "        print(f\"指定されたパスはディレクトリではありません: {path}\")\n",
    "    except PermissionError:\n",
    "        print(f\"指定されたパスへのアクセス権がありません: {path}\")\n",
    "\n",
    "# 使用例\n",
    "# list_files_and_dirs('/path/to/directory')"
   ]
  },
  {
   "cell_type": "code",
   "execution_count": null,
   "id": "1d3bf95e",
   "metadata": {},
   "outputs": [
    {
     "name": "stdout",
     "output_type": "stream",
     "text": [
      ".DS_Store\n",
      "100241706\n"
     ]
    }
   ],
   "source": [
    "list_files_and_dirs('../../../../kuzushiji-recognition/char_sep_datas')\n"
   ]
  }
 ],
 "metadata": {
  "kernelspec": {
   "display_name": "torch_env",
   "language": "python",
   "name": "python3"
  },
  "language_info": {
   "codemirror_mode": {
    "name": "ipython",
    "version": 3
   },
   "file_extension": ".py",
   "mimetype": "text/x-python",
   "name": "python",
   "nbconvert_exporter": "python",
   "pygments_lexer": "ipython3",
   "version": "3.10.13"
  }
 },
 "nbformat": 4,
 "nbformat_minor": 5
}
